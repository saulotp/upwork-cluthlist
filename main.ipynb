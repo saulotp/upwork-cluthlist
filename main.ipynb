{
 "cells": [
  {
   "cell_type": "code",
   "execution_count": 51,
   "metadata": {},
   "outputs": [
    {
     "name": "stderr",
     "output_type": "stream",
     "text": [
      "C:\\Users\\saulo\\AppData\\Local\\Temp\\ipykernel_13068\\3773852161.py:28: DeprecationWarning: executable_path has been deprecated, please pass in a Service object\n",
      "  driver = webdriver.Chrome(executable_path=driver_path)\n",
      "C:\\Users\\saulo\\AppData\\Local\\Temp\\ipykernel_13068\\3773852161.py:62: MarkupResemblesLocatorWarning: The input looks more like a URL than markup. You may want to use an HTTP client like requests to get the document behind the URL, and feed that document to Beautiful Soup.\n",
      "  website_text = BeautifulSoup(website.get_attribute('href'), 'html.parser')\n"
     ]
    },
    {
     "ename": "NoSuchElementException",
     "evalue": "Message: no such element: Unable to locate element: {\"method\":\"xpath\",\"selector\":\"/html/body/main/section/div[2]/ul/li[1]/div/div[1]/div[1]/div/h3/a\"}\n  (Session info: chrome=110.0.5481.180)\nStacktrace:\nBacktrace:\n\t(No symbol) [0x00F437D3]\n\t(No symbol) [0x00ED8B81]\n\t(No symbol) [0x00DDB36D]\n\t(No symbol) [0x00E0D382]\n\t(No symbol) [0x00E0D4BB]\n\t(No symbol) [0x00E43302]\n\t(No symbol) [0x00E2B464]\n\t(No symbol) [0x00E41215]\n\t(No symbol) [0x00E2B216]\n\t(No symbol) [0x00E00D97]\n\t(No symbol) [0x00E0253D]\n\tGetHandleVerifier [0x011BABF2+2510930]\n\tGetHandleVerifier [0x011E8EC1+2700065]\n\tGetHandleVerifier [0x011EC86C+2714828]\n\tGetHandleVerifier [0x00FF3480+645344]\n\t(No symbol) [0x00EE0FD2]\n\t(No symbol) [0x00EE6C68]\n\t(No symbol) [0x00EE6D4B]\n\t(No symbol) [0x00EF0D6B]\n\tBaseThreadInitThunk [0x75F500F9+25]\n\tRtlGetAppContainerNamedObjectPath [0x77CC7BBE+286]\n\tRtlGetAppContainerNamedObjectPath [0x77CC7B8E+238]\n",
     "output_type": "error",
     "traceback": [
      "\u001b[1;31m---------------------------------------------------------------------------\u001b[0m",
      "\u001b[1;31mNoSuchElementException\u001b[0m                    Traceback (most recent call last)",
      "Cell \u001b[1;32mIn[51], line 55\u001b[0m\n\u001b[0;32m     53\u001b[0m time\u001b[39m.\u001b[39msleep(\u001b[39m2\u001b[39m)\n\u001b[0;32m     54\u001b[0m \u001b[39mfor\u001b[39;00m i \u001b[39min\u001b[39;00m \u001b[39mrange\u001b[39m(\u001b[39m1\u001b[39m, \u001b[39m51\u001b[39m):    \n\u001b[1;32m---> 55\u001b[0m     company \u001b[39m=\u001b[39m driver\u001b[39m.\u001b[39;49mfind_element(By\u001b[39m.\u001b[39;49mXPATH, \u001b[39mf\u001b[39;49m\u001b[39m'\u001b[39;49m\u001b[39m/html/body/main/section/div[2]/ul/li[\u001b[39;49m\u001b[39m{\u001b[39;49;00mi\u001b[39m}\u001b[39;49;00m\u001b[39m]/div/div[1]/div[1]/div/h3/a\u001b[39;49m\u001b[39m'\u001b[39;49m)\n\u001b[0;32m     56\u001b[0m     focus \u001b[39m=\u001b[39m driver\u001b[39m.\u001b[39mfind_element(By\u001b[39m.\u001b[39mXPATH, \u001b[39mf\u001b[39m\u001b[39m'\u001b[39m\u001b[39m/html/body/main/section/div[2]/ul/li[\u001b[39m\u001b[39m{\u001b[39;00mi\u001b[39m}\u001b[39;00m\u001b[39m]/div/div[1]/div[2]/div[2]/div/div[3]/span\u001b[39m\u001b[39m'\u001b[39m)\n\u001b[0;32m     57\u001b[0m     website \u001b[39m=\u001b[39m driver\u001b[39m.\u001b[39mfind_element(By\u001b[39m.\u001b[39mXPATH, \u001b[39mf\u001b[39m\u001b[39m'\u001b[39m\u001b[39m/html/body/main/section/div[2]/ul/li[\u001b[39m\u001b[39m{\u001b[39;00mi\u001b[39m}\u001b[39;00m\u001b[39m]/div/div[2]/ul/li[1]/a\u001b[39m\u001b[39m'\u001b[39m)\n",
      "File \u001b[1;32mc:\\Users\\saulo\\AppData\\Local\\Programs\\Python\\Python39\\lib\\site-packages\\selenium\\webdriver\\remote\\webdriver.py:830\u001b[0m, in \u001b[0;36mWebDriver.find_element\u001b[1;34m(self, by, value)\u001b[0m\n\u001b[0;32m    827\u001b[0m     by \u001b[39m=\u001b[39m By\u001b[39m.\u001b[39mCSS_SELECTOR\n\u001b[0;32m    828\u001b[0m     value \u001b[39m=\u001b[39m \u001b[39mf\u001b[39m\u001b[39m'\u001b[39m\u001b[39m[name=\u001b[39m\u001b[39m\"\u001b[39m\u001b[39m{\u001b[39;00mvalue\u001b[39m}\u001b[39;00m\u001b[39m\"\u001b[39m\u001b[39m]\u001b[39m\u001b[39m'\u001b[39m\n\u001b[1;32m--> 830\u001b[0m \u001b[39mreturn\u001b[39;00m \u001b[39mself\u001b[39;49m\u001b[39m.\u001b[39;49mexecute(Command\u001b[39m.\u001b[39;49mFIND_ELEMENT, {\u001b[39m\"\u001b[39;49m\u001b[39musing\u001b[39;49m\u001b[39m\"\u001b[39;49m: by, \u001b[39m\"\u001b[39;49m\u001b[39mvalue\u001b[39;49m\u001b[39m\"\u001b[39;49m: value})[\u001b[39m\"\u001b[39m\u001b[39mvalue\u001b[39m\u001b[39m\"\u001b[39m]\n",
      "File \u001b[1;32mc:\\Users\\saulo\\AppData\\Local\\Programs\\Python\\Python39\\lib\\site-packages\\selenium\\webdriver\\remote\\webdriver.py:440\u001b[0m, in \u001b[0;36mWebDriver.execute\u001b[1;34m(self, driver_command, params)\u001b[0m\n\u001b[0;32m    438\u001b[0m response \u001b[39m=\u001b[39m \u001b[39mself\u001b[39m\u001b[39m.\u001b[39mcommand_executor\u001b[39m.\u001b[39mexecute(driver_command, params)\n\u001b[0;32m    439\u001b[0m \u001b[39mif\u001b[39;00m response:\n\u001b[1;32m--> 440\u001b[0m     \u001b[39mself\u001b[39;49m\u001b[39m.\u001b[39;49merror_handler\u001b[39m.\u001b[39;49mcheck_response(response)\n\u001b[0;32m    441\u001b[0m     response[\u001b[39m\"\u001b[39m\u001b[39mvalue\u001b[39m\u001b[39m\"\u001b[39m] \u001b[39m=\u001b[39m \u001b[39mself\u001b[39m\u001b[39m.\u001b[39m_unwrap_value(response\u001b[39m.\u001b[39mget(\u001b[39m\"\u001b[39m\u001b[39mvalue\u001b[39m\u001b[39m\"\u001b[39m, \u001b[39mNone\u001b[39;00m))\n\u001b[0;32m    442\u001b[0m     \u001b[39mreturn\u001b[39;00m response\n",
      "File \u001b[1;32mc:\\Users\\saulo\\AppData\\Local\\Programs\\Python\\Python39\\lib\\site-packages\\selenium\\webdriver\\remote\\errorhandler.py:245\u001b[0m, in \u001b[0;36mErrorHandler.check_response\u001b[1;34m(self, response)\u001b[0m\n\u001b[0;32m    243\u001b[0m         alert_text \u001b[39m=\u001b[39m value[\u001b[39m\"\u001b[39m\u001b[39malert\u001b[39m\u001b[39m\"\u001b[39m]\u001b[39m.\u001b[39mget(\u001b[39m\"\u001b[39m\u001b[39mtext\u001b[39m\u001b[39m\"\u001b[39m)\n\u001b[0;32m    244\u001b[0m     \u001b[39mraise\u001b[39;00m exception_class(message, screen, stacktrace, alert_text)  \u001b[39m# type: ignore[call-arg]  # mypy is not smart enough here\u001b[39;00m\n\u001b[1;32m--> 245\u001b[0m \u001b[39mraise\u001b[39;00m exception_class(message, screen, stacktrace)\n",
      "\u001b[1;31mNoSuchElementException\u001b[0m: Message: no such element: Unable to locate element: {\"method\":\"xpath\",\"selector\":\"/html/body/main/section/div[2]/ul/li[1]/div/div[1]/div[1]/div/h3/a\"}\n  (Session info: chrome=110.0.5481.180)\nStacktrace:\nBacktrace:\n\t(No symbol) [0x00F437D3]\n\t(No symbol) [0x00ED8B81]\n\t(No symbol) [0x00DDB36D]\n\t(No symbol) [0x00E0D382]\n\t(No symbol) [0x00E0D4BB]\n\t(No symbol) [0x00E43302]\n\t(No symbol) [0x00E2B464]\n\t(No symbol) [0x00E41215]\n\t(No symbol) [0x00E2B216]\n\t(No symbol) [0x00E00D97]\n\t(No symbol) [0x00E0253D]\n\tGetHandleVerifier [0x011BABF2+2510930]\n\tGetHandleVerifier [0x011E8EC1+2700065]\n\tGetHandleVerifier [0x011EC86C+2714828]\n\tGetHandleVerifier [0x00FF3480+645344]\n\t(No symbol) [0x00EE0FD2]\n\t(No symbol) [0x00EE6C68]\n\t(No symbol) [0x00EE6D4B]\n\t(No symbol) [0x00EF0D6B]\n\tBaseThreadInitThunk [0x75F500F9+25]\n\tRtlGetAppContainerNamedObjectPath [0x77CC7BBE+286]\n\tRtlGetAppContainerNamedObjectPath [0x77CC7B8E+238]\n"
     ]
    }
   ],
   "source": [
    "import pandas as pd\n",
    "from bs4 import BeautifulSoup\n",
    "from selenium import webdriver\n",
    "from selenium.webdriver.common.keys import Keys\n",
    "from selenium.webdriver.common.by import By\n",
    "import time\n",
    "\n",
    "company_list = []\n",
    "focus_list = []\n",
    "website_list = []\n",
    "country_list = []\n",
    "\n",
    "driver_path = \"chromedriver.exe\"\n",
    "driver = webdriver.Chrome(executable_path=driver_path)\n",
    "driver.set_window_size(1024, 600)\n",
    "driver.maximize_window()\n",
    "\n",
    "   \n",
    "for c in range(0, 523):\n",
    "    driver.get(f'https://clutch.co/us/agencies/digital-marketing?page={c}')\n",
    "    time.sleep(2)\n",
    "    for i in range(1, 51):    \n",
    "        company = driver.find_element(By.XPATH, f'/html/body/main/section/div[2]/ul/li[{i}]/div/div[1]/div[1]/div/h3/a')\n",
    "        focus = driver.find_element(By.XPATH, f'/html/body/main/section/div[2]/ul/li[{i}]/div/div[1]/div[2]/div[2]/div/div[3]/span')\n",
    "        website = driver.find_element(By.XPATH, f'/html/body/main/section/div[2]/ul/li[{i}]/div/div[2]/ul/li[1]/a')\n",
    "\n",
    "        #get text\n",
    "        company_text = BeautifulSoup(company.get_attribute('innerHTML'), 'html.parser')\n",
    "        focus_text = BeautifulSoup(focus.get_attribute('innerHTML'), 'html.parser')\n",
    "        website_text = BeautifulSoup(website.get_attribute('href'), 'html.parser')\n",
    "\n",
    "        #append to list\n",
    "        company_list.append(company_text)\n",
    "        focus_list.append(focus_text.text)\n",
    "        website_list.append(website_text.text)\n",
    "        country_list.append('US')"
   ]
  },
  {
   "cell_type": "code",
   "execution_count": 49,
   "metadata": {},
   "outputs": [
    {
     "data": {
      "text/plain": [
       "['https://www.webfx.com/lp/seo-services/?utm_source=referral&utm_medium=clutch&utm_campaign=profile',\n",
       " 'https://ignitevisibility.com/',\n",
       " 'https://www.smartsites.com/lp/digital-marketing-lp/?utm_source=clutch.co&utm_medium=referral&utm_campaign=us-agencies-digital-marketing',\n",
       " 'https://thriveagency.com/?utm_source=clutch.co&utm_medium=referral&utm_campaign=us-digital-marketing',\n",
       " 'https://lilosocial.com/?utm_source=clutch.co&utm_medium=referral&utm_campaign=us-digital-marketing',\n",
       " 'https://newmedia.com/?utm_source=clutch.co&utm_medium=referral&utm_campaign=us-agencies-digital-marketing',\n",
       " 'https://www.funnelboostmedia.net/clutch/?utm_source=clutch.co&utm_medium=referral&utm_campaign=us-agencies-digital-marketing',\n",
       " 'https://www.directom.com/?utm_source=clutch&utm_medium=referral',\n",
       " 'https://seedx.us/?utm_source=clutch.co&utm_medium=referral&utm_campaign=directory',\n",
       " 'https://impactable.com/paid-ads/?&utm_source=clutch&utm_medium=clutch&utm_campaign=clutch_sponsored',\n",
       " 'https://www.madfishdigital.com/?utm_source=clutch.co&utm_medium=referral&utm_campaign=us-agencies-digital-marketing',\n",
       " 'https://grow.brolik.com/get-started/?utm_source=clutch&utm_medium=referral&utm_campaign=directory',\n",
       " 'https://sociallink.com/?utm_source=clutch.co&utm_medium=referral&utm_campaign=us-digital-marketing-agencies',\n",
       " 'https://one18media.com/?utm_source=clutch.co&utm_medium=referral&utm_campaign=us-agencies-digital-marketing',\n",
       " 'https://rankings.io/?utm_source=clutch.co&utm_medium=referral&utm_campaign=us-agencies-digital-marketing',\n",
       " 'https://divisionoflabor.com/?utm_source=clutch.co&utm_medium=referral&utm_campaign=us-agencies-digital-marketing',\n",
       " 'https://boldercreative.com/',\n",
       " 'https://digitalinkco.com/?utm_source=clutch.co&utm_medium=referral&utm_campaign=us-agencies-digital-marketing',\n",
       " 'https://fruition.net/services/digital-marketing/?utm_source=clutch.co&utm_medium=referral&utm_campaign=us-agencies-digital-marketing',\n",
       " 'https://tribalvision.com/boston-ad-agency/?utm_source=clutch.co&utm_medium=sponsorship&utm_campaign=national-landing-page',\n",
       " 'http://www.sagefrog.com/?utm_source=clutch.co&utm_medium=referral',\n",
       " 'https://www.harvestgrowth.com/cl-digital/?utm_source=clutch.co&utm_medium=referral&utm_campaign=us-agencies-digital-marketing',\n",
       " 'https://www.booyahadvertising.com/?utm_source=clutch.co&utm_medium=referral&utm_campaign=us-agencies-digital-marketing',\n",
       " 'https://augustash.com/?utm_source=clutch.co&utm_medium=referral&utm_campaign=us-agencies-digital-marketing',\n",
       " 'https://www.sltconsulting.co/?utm_source=clutch.co&utm_medium=referral&utm_campaign=directory',\n",
       " 'https://hotspexmedia.com/services/digital-advertising/?utm_source=clutch.co&utm_medium=referral&utm_campaign=us-agencies-digital-marketing',\n",
       " 'http://www.socialdriver.com/?utm_source=clutch.co&utm_medium=referral&utm_campaign=directory',\n",
       " 'https://freshcontentsociety.com/?utm_source=clutch.co&utm_medium=referral&utm_campaign=us-agencies-digital-marketing',\n",
       " 'https://www.bastionelevate.com/?utm_source=clutch.co&utm_medium=referral&utm_campaign=us-agencies-digital-marketing',\n",
       " 'https://magnetudeconsulting.com/?utm_source=clutch.co&utm_medium=referral&utm_campaign=us-agencies-digital-marketing',\n",
       " 'https://www.cozydesign.com/?utm_source=clutch.co&utm_medium=referral&utm_campaign=us-agencies-digital-marketing',\n",
       " 'https://3rdandlamar.com/?utm_source=clutch.co&utm_medium=referral&utm_campaign=us-agencies-digital-marketing',\n",
       " 'https://mightyfinedesign.co/?utm_source=clutch.co&utm_medium=referral&utm_campaign=us-agencies-digital-marketing',\n",
       " 'https://bigorange.marketing/?utm_source=clutch.co&utm_medium=referral&utm_campaign=us-agencies-digital-marketing',\n",
       " 'https://www.searchengineprojects.com/?utm_source=clutch.co&utm_medium=referral&utm_campaign=us-agencies-digital-marketing',\n",
       " 'https://www.verbszmarketing.com/?utm_source=clutch.co&utm_medium=referral&utm_campaign=directory',\n",
       " 'https://propelomedia.com/?utm_source=clutch.co&utm_medium=sponsored&utm_campaign=topdigitalmarketingusa',\n",
       " 'http://kbfmarketing.com/?utm_source=clutch.co&utm_medium=referral&utm_campaign=directory',\n",
       " 'https://www.marketingempiregroup.com//?utm_source=clutch.co&utm_medium=referral&utm_campaign=directory',\n",
       " 'https://www.gravitatedesign.com/?utm_source=clutch.co&utm_medium=referral&utm_campaign=us-agencies-digital-marketing',\n",
       " 'https://connect4webdesign.com/?utm_source=clutch.co&utm_medium=referral&utm_campaign=us-agencies-digital-marketing',\n",
       " 'http://www.hylink.com/?utm_source=clutch.co&utm_medium=referral&utm_campaign=us-agencies-digital-marketing',\n",
       " 'https://trueimpactpartners.com/?utm_source=clutch.co&utm_medium=referral&utm_campaign=us-agencies-digital-marketing',\n",
       " 'https://powerdigitalmarketing.com/clutch/',\n",
       " 'https://belkins.io/?utm_source=clutch.co&utm_medium=referral',\n",
       " 'https://siegemedia.com/?utm_source=clutch.co&utm_medium=referral&utm_campaign=us-agencies-digital-marketing',\n",
       " 'https://req.co/?utm_source=clutch.co&utm_medium=referral',\n",
       " 'https://www.ideagrove.com/clutch',\n",
       " 'https://nowsourcing.com/?utm_source=clutch.co&utm_medium=referral&utm_campaign=directory',\n",
       " 'https://www.bopdesign.com/?utm_source=clutch.co&utm_medium=referral&utm_campaign=directory']"
      ]
     },
     "execution_count": 49,
     "metadata": {},
     "output_type": "execute_result"
    }
   ],
   "source": []
  },
  {
   "cell_type": "code",
   "execution_count": 32,
   "metadata": {},
   "outputs": [
    {
     "name": "stdout",
     "output_type": "stream",
     "text": [
      "https://www.webfx.com/lp/seo-services/?utm_source=referral&amp;utm_medium=clutch&amp;utm_campaign=profilehttps://www.webfx.com/lp/seo-services/?utm_source=referral&amp;utm_medium=clutch&amp;utm_campaign=profile\n"
     ]
    }
   ],
   "source": [
    "print(website)"
   ]
  }
 ],
 "metadata": {
  "kernelspec": {
   "display_name": "Python 3",
   "language": "python",
   "name": "python3"
  },
  "language_info": {
   "codemirror_mode": {
    "name": "ipython",
    "version": 3
   },
   "file_extension": ".py",
   "mimetype": "text/x-python",
   "name": "python",
   "nbconvert_exporter": "python",
   "pygments_lexer": "ipython3",
   "version": "3.9.11"
  },
  "orig_nbformat": 4
 },
 "nbformat": 4,
 "nbformat_minor": 2
}
